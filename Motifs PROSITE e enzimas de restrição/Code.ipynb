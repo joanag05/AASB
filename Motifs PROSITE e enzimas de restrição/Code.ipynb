{
 "cells": [
  {
   "cell_type": "code",
   "execution_count": null,
   "metadata": {},
   "outputs": [],
   "source": []
  },
  {
   "attachments": {},
   "cell_type": "markdown",
   "metadata": {},
   "source": [
    "# Motifs Prosite"
   ]
  },
  {
   "cell_type": "code",
   "execution_count": null,
   "metadata": {},
   "outputs": [],
   "source": [
    "# ver aula 9\n",
    "\n"
   ]
  },
  {
   "attachments": {},
   "cell_type": "markdown",
   "metadata": {},
   "source": [
    "# Enzimas de Restrição\n"
   ]
  },
  {
   "cell_type": "code",
   "execution_count": 7,
   "metadata": {},
   "outputs": [
    {
     "data": {
      "text/plain": [
       "['TAAGCTG', 'AATG', 'ACTCG']"
      ]
     },
     "execution_count": 7,
     "metadata": {},
     "output_type": "execute_result"
    }
   ],
   "source": [
    "enzimas = {\"R\" : \"[GA]\", \"Y\" : \"[CT]\", \"M\" : \"[AC]\", \"K\" : \"[GT]\", \"S\" : \"[GC]\", \"W\" : \"[AT]\", \"B\" : \"[^A]\", \"D\" : \"[^C]\", \"H\" : \"[^G]\", \"V\" : \"[^T]\", \"N\" : \"[ACGT]\"}\n",
    "enzima = \"G^AMTV\"\n",
    "\n",
    "import re\n",
    "\n",
    "def converte(enz):\n",
    "  return ''.join([enzimas.get(x, x) for x in enz])\n",
    "\n",
    "def enz_corte(enzima):\n",
    "  e1, e2 = enzima.split('^')\n",
    "  return f\"(?<={converte(e1)}){converte(e2)}\"\n",
    "\n",
    "seq = 'TAAGCTGAATGACTCG'\n",
    "pos = [m.span()[0] for m in re.finditer(enz_corte(enzima), seq)]\n",
    "\n",
    "[seq[i:j] for i, j in zip([0, *pos], [*pos, len(seq)])]"
   ]
  }
 ],
 "metadata": {
  "kernelspec": {
   "display_name": "Python 3",
   "language": "python",
   "name": "python3"
  },
  "language_info": {
   "codemirror_mode": {
    "name": "ipython",
    "version": 3
   },
   "file_extension": ".py",
   "mimetype": "text/x-python",
   "name": "python",
   "nbconvert_exporter": "python",
   "pygments_lexer": "ipython3",
   "version": "3.10.8"
  },
  "orig_nbformat": 4,
  "vscode": {
   "interpreter": {
    "hash": "3c32c0614abf3f383ac5434e7f67efdcfdcd21ab2cebdd1098cd7517da000a33"
   }
  }
 },
 "nbformat": 4,
 "nbformat_minor": 2
}
