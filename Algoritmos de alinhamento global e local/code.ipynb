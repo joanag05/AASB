{
 "cells": [
  {
   "attachments": {},
   "cell_type": "markdown",
   "metadata": {},
   "source": [
    "# Alinhamento Local\n",
    "\n",
    "### Smith Waterman"
   ]
  },
  {
   "cell_type": "code",
   "execution_count": 7,
   "metadata": {},
   "outputs": [],
   "source": [
    "\n",
    "import io\n",
    "\n",
    "class Mat:\n",
    "    def __init__(self, rows, cols):                                          #Definir uma matriz\n",
    "        self.mat = [[0 for c in range(cols)]\n",
    "                    for r in range(rows)]\n",
    "    def numRows (self): return len(self.mat)\n",
    "    def numCols (self): return len(self.mat[0])\n",
    "    def __str__(self):\n",
    "        return '\\n'.join(' '.join(str(val) for val in row)\n",
    "                         for row in self.mat)\n",
    "    def __repr__(self):\n",
    "        return str(self)\n",
    "    def __getitem__ (self, n):\n",
    "        return self.mat[n]\n",
    "\n",
    "    def subst(x, y):                                                        # Caracteres iguais = +4 \n",
    "        return 4 if x == y else -2                                          # Caracteres diferentes = -2\n",
    "        \n",
    "class SW:                                        \n",
    "    def __init__(self, s1, s2, g = -4):\n",
    "      self.s1 = s1\n",
    "      self.s2 = s2\n",
    "      self.mat = Mat(len(s1) + 1, len(s2) + 1)\n",
    "\n",
    "      for L, x1 in enumerate(s1):\n",
    "        for C, x2 in enumerate(s2):\n",
    "          self.mat[L + 1][C + 1] = max(\n",
    "              self.mat[L  ][C    ] + subst(x1, x2),\n",
    "              self.mat[L+1][C    ] + g,\n",
    "              self.mat[L  ][C + 1] + g,\n",
    "              0\n",
    "          )   "
   ]
  },
  {
   "attachments": {},
   "cell_type": "markdown",
   "metadata": {},
   "source": [
    "# Alinhamento Gobal"
   ]
  },
  {
   "cell_type": "code",
   "execution_count": 28,
   "metadata": {},
   "outputs": [],
   "source": [
    "\n",
    "import io\n",
    "\n",
    "class Mat:\n",
    "    def __init__(self, rows, cols):                                          #Definir uma matriz \n",
    "        self.mat = [[0 for c in range(cols)]\n",
    "                    for r in range(rows)]\n",
    "    def numRows (self): return len(self.mat)\n",
    "    def numCols (self): return len(self.mat[0])\n",
    "    def __str__(self):\n",
    "        return '\\n'.join(' '.join(str(val) for val in row)\n",
    "                         for row in self.mat)\n",
    "    def __repr__(self):\n",
    "        return str(self)\n",
    "    def __getitem__ (self, n):\n",
    "        return self.mat[n]\n",
    "\n",
    "def subst(x,y):                                                        # Caracteres iguais = +4 \n",
    "  return 4 if x == y else -2                                          # Caracteres diferentes = -2\n",
    "\n",
    "\n",
    "class NW:\n",
    "  def __init__(self, s1, s2, g = -4):\n",
    "    self.s1 = s1\n",
    "    self.s2 = s2\n",
    "    self.mat = Mat(len(s1) + 1, len(s2) + 1)\n",
    "    self.tr  = Mat(len(s1) + 1, len(s2) + 1)\n",
    "    \n",
    "    for L in range(len(s1)):\n",
    "      self.mat[L + 1][0] = g * (L + 1)\n",
    "      self.tr[L + 1][0]  = 'C'\n",
    "\n",
    "    for C in range(len(s2)):\n",
    "      self.mat[0][C + 1] = g * (C + 1)\n",
    "      self.tr[0][C + 1]  = 'E'\n",
    "\n",
    "    for L, x1 in enumerate(s1):\n",
    "      for C, x2 in enumerate(s2):\n",
    "        possiveis = [\n",
    "            self.mat[L  ][C    ] + subst(x1, x2),   # Diagonal\n",
    "            self.mat[L+1][C    ] + g,               # Esquerda\n",
    "            self.mat[L  ][C + 1] + g,               # Cima\n",
    "        ]\n",
    "        dirs = \"DEC\"\n",
    "\n",
    "        self.mat[L + 1][C + 1] = max(possiveis)\n",
    "        self.tr[L + 1][C + 1] = dirs[possiveis.index(self.mat[L + 1][C + 1])]\n",
    "\n",
    "  def rebuild(self):                                          #Matriz T\n",
    "    L = len(self.s1)\n",
    "    C = len(self.s2)\n",
    "    S1 = \"\"\n",
    "    S2 = \"\"\n",
    "    \n",
    "    dirs = {\n",
    "        'D' : (-1, -1),               # Diagonal\n",
    "        'E' : ( 0, -1),               # Esquerda\n",
    "        'C' : (-1,  0)                # Cima\n",
    "    }\n",
    "\n",
    "    while L > 0 or C > 0:\n",
    "      DL, DC = dirs[self.tr[L][C]]\n",
    "\n",
    "      if self.tr[L][C] == \"D\":\n",
    "        S1 = self.s1[L - 1] + S1\n",
    "        S2 = self.s2[C - 1] + S2\n",
    "      elif self.tr[L][C] == \"E\":\n",
    "        S1 = '-' + S1\n",
    "        S2 = self.s2[C - 1] + S2\n",
    "      else:\n",
    "        S1 = self.s1[L - 1] + S1\n",
    "        S2 = '-' + S2        \n",
    "\n",
    "      L += DL\n",
    "      C += DC\n",
    "\n",
    "    return S1, S2\n",
    "\n",
    "  def __repr__(self):\n",
    "    cols = \"-\" + self.s2\n",
    "    lins = \"-\" + self.s1\n",
    "    with io.StringIO(\"\") as S:\n",
    "      print(' ', *cols, sep = '   ', file = S)\n",
    "      for L, linha in zip(lins, self.mat):\n",
    "        print(L, *[f'{x:3d}' for x in linha], file = S)\n",
    "\n",
    "      print(file = S)\n",
    "\n",
    "      print(' ', *cols, file = S)\n",
    "      for L, linha in zip(lins, self.tr):\n",
    "        print(L, *linha, file = S)\n",
    "\n",
    "      return S.getvalue()\n"
   ]
  },
  {
   "cell_type": "code",
   "execution_count": 18,
   "metadata": {},
   "outputs": [
    {
     "name": "stdout",
     "output_type": "stream",
     "text": [
      "    -   T   A   C   C   G   T\n",
      "-   0  -4  -8 -12 -16 -20 -24\n",
      "A  -4  -2   0  -4  -8 -12 -16\n",
      "C  -8  -6  -4   4   0  -4  -8\n",
      "G -12 -10  -8   0   2   4   0\n",
      "T -16  -8 -12  -4  -2   0   8\n",
      "\n",
      "  - T A C C G T\n",
      "- 0 E E E E E E\n",
      "A C D D E E E E\n",
      "C C D D D D E E\n",
      "G C D D C D D E\n",
      "T C D D C D D D\n",
      "\n"
     ]
    }
   ],
   "source": [
    "alin = NW(\"ACGT\", \"TACCGT\")\n",
    "print(alin)"
   ]
  },
  {
   "cell_type": "code",
   "execution_count": 50,
   "metadata": {},
   "outputs": [
    {
     "ename": "AttributeError",
     "evalue": "'dict' object has no attribute 's1'",
     "output_type": "error",
     "traceback": [
      "\u001b[1;31m---------------------------------------------------------------------------\u001b[0m",
      "\u001b[1;31mAttributeError\u001b[0m                            Traceback (most recent call last)",
      "Cell \u001b[1;32mIn[50], line 13\u001b[0m\n\u001b[0;32m     11\u001b[0m     \u001b[39mprint\u001b[39m(\u001b[39m'\u001b[39m\u001b[39mMatriz S\u001b[39m\u001b[39m'\u001b[39m)\n\u001b[0;32m     12\u001b[0m     print_mat(S)\n\u001b[1;32m---> 13\u001b[0m test_global_alig()    \n",
      "Cell \u001b[1;32mIn[50], line 9\u001b[0m, in \u001b[0;36mtest_global_alig\u001b[1;34m()\u001b[0m\n\u001b[0;32m      7\u001b[0m s1 \u001b[39m=\u001b[39m \u001b[39m\"\u001b[39m\u001b[39mPHSWG\u001b[39m\u001b[39m\"\u001b[39m\n\u001b[0;32m      8\u001b[0m s2 \u001b[39m=\u001b[39m \u001b[39m\"\u001b[39m\u001b[39mHGWAG\u001b[39m\u001b[39m\"\u001b[39m\n\u001b[1;32m----> 9\u001b[0m alinhamento_global \u001b[39m=\u001b[39m Needleman_Wunsch(\u001b[39mself\u001b[39;49m, s1, s2, \u001b[39m-\u001b[39;49m\u001b[39m8\u001b[39;49m)\n\u001b[0;32m     10\u001b[0m S \u001b[39m=\u001b[39m alinhamento_global[\u001b[39m0\u001b[39m]\n\u001b[0;32m     11\u001b[0m \u001b[39mprint\u001b[39m(\u001b[39m'\u001b[39m\u001b[39mMatriz S\u001b[39m\u001b[39m'\u001b[39m)\n",
      "Cell \u001b[1;32mIn[49], line 47\u001b[0m, in \u001b[0;36mNeedleman_Wunsch\u001b[1;34m(self, s1, s2, g)\u001b[0m\n\u001b[0;32m     46\u001b[0m \u001b[39mdef\u001b[39;00m \u001b[39mNeedleman_Wunsch\u001b[39m(\u001b[39mself\u001b[39m, s1, s2, g \u001b[39m=\u001b[39m \u001b[39m-\u001b[39m\u001b[39m4\u001b[39m):\n\u001b[1;32m---> 47\u001b[0m     \u001b[39mself\u001b[39;49m\u001b[39m.\u001b[39;49ms1 \u001b[39m=\u001b[39m s1\n\u001b[0;32m     48\u001b[0m     \u001b[39mself\u001b[39m\u001b[39m.\u001b[39ms2 \u001b[39m=\u001b[39m s2\n\u001b[0;32m     49\u001b[0m     \u001b[39mself\u001b[39m\u001b[39m.\u001b[39mmat \u001b[39m=\u001b[39m Mat(\u001b[39mlen\u001b[39m(s1) \u001b[39m+\u001b[39m \u001b[39m1\u001b[39m, \u001b[39mlen\u001b[39m(s2) \u001b[39m+\u001b[39m \u001b[39m1\u001b[39m)\n",
      "\u001b[1;31mAttributeError\u001b[0m: 'dict' object has no attribute 's1'"
     ]
    }
   ],
   "source": [
    "def print_mat (mat):\n",
    "    for i in range(0, len(mat)):\n",
    "        print(mat[i]) \n",
    "\n",
    "def test_global_alig():\n",
    "    self=create_blossum62()\n",
    "    s1 = \"PHSWG\"\n",
    "    s2 = \"HGWAG\"\n",
    "    alinhamento_global = Needleman_Wunsch(self, s1, s2, -8)\n",
    "    S = alinhamento_global[0]\n",
    "    print('Matriz S')\n",
    "    print_mat(S)\n",
    "test_global_alig()    "
   ]
  },
  {
   "cell_type": "code",
   "execution_count": 40,
   "metadata": {},
   "outputs": [
    {
     "name": "stdout",
     "output_type": "stream",
     "text": [
      "Score of optimal alignment: 16\n",
      "Matriz S\n",
      "[0, -4, -8, -12, -16, -20, -24]\n",
      "[-4, 0, 0, -4, -8, -12, -16]\n",
      "[-8, -4, 0, 9, 5, 1, -3]\n",
      "[-12, -8, -4, 5, 6, 11, 7]\n",
      "[-16, -7, -8, 1, 4, 7, 16]\n",
      "Matriz T\n",
      "[0, 3, 3, 3, 3, 3, 3]\n",
      "[2, 1, 1, 3, 3, 3, 3]\n",
      "[2, 2, 1, 1, 3, 3, 3]\n",
      "[2, 2, 2, 2, 1, 1, 3]\n",
      "[2, 1, 2, 2, 1, 2, 1]\n"
     ]
    },
    {
     "ename": "IndexError",
     "evalue": "string index out of range",
     "output_type": "error",
     "traceback": [
      "\u001b[1;31m---------------------------------------------------------------------------\u001b[0m",
      "\u001b[1;31mIndexError\u001b[0m                                Traceback (most recent call last)",
      "Cell \u001b[1;32mIn[40], line 20\u001b[0m\n\u001b[0;32m     17\u001b[0m     \u001b[39mprint\u001b[39m(alig[\u001b[39m0\u001b[39m])\n\u001b[0;32m     18\u001b[0m     \u001b[39mprint\u001b[39m(alig[\u001b[39m1\u001b[39m])\n\u001b[1;32m---> 20\u001b[0m test_global_alig()\n",
      "Cell \u001b[1;32mIn[40], line 16\u001b[0m, in \u001b[0;36mtest_global_alig\u001b[1;34m()\u001b[0m\n\u001b[0;32m     14\u001b[0m \u001b[39mprint\u001b[39m(\u001b[39m'\u001b[39m\u001b[39mMatriz T\u001b[39m\u001b[39m'\u001b[39m)\n\u001b[0;32m     15\u001b[0m print_mat(T)\n\u001b[1;32m---> 16\u001b[0m alig \u001b[39m=\u001b[39m recover_align(T, S1, S2)\n\u001b[0;32m     17\u001b[0m \u001b[39mprint\u001b[39m(alig[\u001b[39m0\u001b[39m])\n\u001b[0;32m     18\u001b[0m \u001b[39mprint\u001b[39m(alig[\u001b[39m1\u001b[39m])\n",
      "Cell \u001b[1;32mIn[39], line 99\u001b[0m, in \u001b[0;36mrecover_align\u001b[1;34m(T, S1, S2)\u001b[0m\n\u001b[0;32m     97\u001b[0m     j \u001b[39m-\u001b[39m\u001b[39m=\u001b[39m \u001b[39m1\u001b[39m\n\u001b[0;32m     98\u001b[0m \u001b[39melse\u001b[39;00m:\n\u001b[1;32m---> 99\u001b[0m     res[\u001b[39m0\u001b[39m] \u001b[39m=\u001b[39m S1[i\u001b[39m-\u001b[39;49m\u001b[39m1\u001b[39;49m] \u001b[39m+\u001b[39m res[\u001b[39m0\u001b[39m]\n\u001b[0;32m    100\u001b[0m     res[\u001b[39m1\u001b[39m] \u001b[39m=\u001b[39m \u001b[39m\"\u001b[39m\u001b[39m-\u001b[39m\u001b[39m\"\u001b[39m \u001b[39m+\u001b[39m res[\u001b[39m1\u001b[39m]\n\u001b[0;32m    101\u001b[0m     i \u001b[39m-\u001b[39m\u001b[39m=\u001b[39m \u001b[39m1\u001b[39m\n",
      "\u001b[1;31mIndexError\u001b[0m: string index out of range"
     ]
    }
   ],
   "source": [
    "def print_mat (mat):\n",
    "    for i in range(0, len(mat)):\n",
    "        print(mat[i])\n",
    "def test_global_alig():\n",
    "    Self=create_blossum62()\n",
    "    S1 = \"ACGT\"\n",
    "    S2 = \"TACCGT\"\n",
    "    res = needleman_Wunsch(S1, S2, Self, -4)\n",
    "    S = res[0]\n",
    "    T = res[1]\n",
    "    print(\"Score of optimal alignment:\", S[len(S1)][len(S2)])\n",
    "    print('Matriz S')\n",
    "    print_mat(S)\n",
    "    print('Matriz T')\n",
    "    print_mat(T)\n",
    "    alig = recover_align(T, S1, S2)\n",
    "    print(alig[0])\n",
    "    print(alig[1])\n",
    "\n",
    "test_global_alig()"
   ]
  },
  {
   "attachments": {},
   "cell_type": "markdown",
   "metadata": {},
   "source": [
    "# Testes \n",
    "\n",
    "def test():\n",
    "    S1 = MySeq(\"ATGATATGATGATT\")\n",
    "    S2 = MySeq(\"GATGAATAGATGTGT\")\n",
    "    self = SubstMatrix()\n",
    "    self.create_submat(3, -1, \"ACGT\")\n",
    "    alin = PairwiseAlignment(Self, -3)\n",
    "    print(alin.smith_Waterman(seq1, seq2))\n",
    "    printMat(alin.S)\n",
    "    print(alin.recover_align_local())\n",
    "    \n",
    "    print(alin.needleman_Wunsch(S1,S2))\n"
   ]
  }
 ],
 "metadata": {
  "kernelspec": {
   "display_name": "Python 3",
   "language": "python",
   "name": "python3"
  },
  "language_info": {
   "codemirror_mode": {
    "name": "ipython",
    "version": 3
   },
   "file_extension": ".py",
   "mimetype": "text/x-python",
   "name": "python",
   "nbconvert_exporter": "python",
   "pygments_lexer": "ipython3",
   "version": "3.10.8"
  },
  "orig_nbformat": 4,
  "vscode": {
   "interpreter": {
    "hash": "3c32c0614abf3f383ac5434e7f67efdcfdcd21ab2cebdd1098cd7517da000a33"
   }
  }
 },
 "nbformat": 4,
 "nbformat_minor": 2
}
