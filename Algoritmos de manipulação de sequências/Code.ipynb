{
 "cells": [
  {
   "attachments": {},
   "cell_type": "markdown",
   "metadata": {},
   "source": [
    "# DNA VÁLIDO : \n",
    "No código da função seguinte, os caracteres válidos são contados e sua soma é comparada ao comprimento da string para verificar se todos os caracteres são válidos."
   ]
  },
  {
   "cell_type": "code",
   "execution_count": 8,
   "metadata": {},
   "outputs": [],
   "source": [
    "class SEQS:\n",
    "    def __init__(self,dna_seq):\n",
    "        self.dna_seq=dna_seq\n",
    "\n",
    "    def __str__(self):\n",
    "        return f'A sequência a analisar é: {self.dna_seq}'\n",
    "    \n",
    "    def __repr__(self):\n",
    "        return f'SEQS(\\\"{self.dna_seq}\\\")'\n",
    "\n",
    "    def DNA_valido (self):\n",
    "        Seq = self.dna_seq.upper()\n",
    "        valido = Seq.count(\"A\") + Seq.count(\"C\") + Seq.count(\"G\") + Seq.count(\"T\")\n",
    "        if valido == len (Seq): \n",
    "            return True\n",
    "        else : \n",
    "            return False\n",
    "    def transcription(self):\n",
    "        assert SEQS.DNA_valido(self), \"Sequência de DNA inválida\"\n",
    "        return self.dna_seq.upper().replace('T','U')"
   ]
  },
  {
   "cell_type": "code",
   "execution_count": 10,
   "metadata": {},
   "outputs": [
    {
     "data": {
      "text/plain": [
       "'AUAGAUGCA'"
      ]
     },
     "execution_count": 10,
     "metadata": {},
     "output_type": "execute_result"
    }
   ],
   "source": []
  },
  {
   "attachments": {},
   "cell_type": "markdown",
   "metadata": {},
   "source": [
    "# Complemento Reverso"
   ]
  },
  {
   "cell_type": "code",
   "execution_count": 59,
   "metadata": {},
   "outputs": [],
   "source": [
    "def reverse_complement(dna_seq):\n",
    "    assert DNA_valido(dna_seq), \"Sequência de DNA inválida\"\n",
    "    dna_inv = dna_seq[:: -1]\n",
    "    dna_inv = dna_inv.replace('A', 't').replace('T', 'a').replace('G', 'c').replace('C', 'g').upper()\n",
    "    return dna_inv"
   ]
  },
  {
   "cell_type": "code",
   "execution_count": 37,
   "metadata": {},
   "outputs": [],
   "source": [
    "import re\n",
    "gencode = {\n",
    "    'ATA':'I', 'ATC':'I', 'ATT':'I', 'ATG':'M',\n",
    "    'ACA':'T', 'ACC':'T', 'ACG':'T', 'ACT':'T',\n",
    "    'AAC':'N', 'AAT':'N', 'AAA':'K', 'AAG':'K',\n",
    "    'AGC':'S', 'AGT':'S', 'AGA':'R', 'AGG':'R',\n",
    "    'CTA':'L', 'CTC':'L', 'CTG':'L', 'CTT':'L',\n",
    "    'CCA':'P', 'CCC':'P', 'CCG':'P', 'CCT':'P',\n",
    "    'CAC':'H', 'CAT':'H', 'CAA':'Q', 'CAG':'Q',\n",
    "    'CGA':'R', 'CGC':'R', 'CGG':'R', 'CGT':'R',\n",
    "    'GTA':'V', 'GTC':'V', 'GTG':'V', 'GTT':'V',\n",
    "    'GCA':'A', 'GCC':'A', 'GCG':'A', 'GCT':'A',\n",
    "    'GAC':'D', 'GAT':'D', 'GAA':'E', 'GAG':'E',\n",
    "    'GGA':'G', 'GGC':'G', 'GGG':'G', 'GGT':'G',\n",
    "    'TCA':'S', 'TCC':'S', 'TCG':'S', 'TCT':'S',\n",
    "    'TTC':'F', 'TTT':'F', 'TTA':'L', 'TTG':'L',\n",
    "    'TAC':'Y', 'TAT':'Y', 'TAA':'_', 'TAG':'_',\n",
    "    'TGC':'C', 'TGT':'C', 'TGA':'_', 'TGG':'W'}\n"
   ]
  },
  {
   "attachments": {},
   "cell_type": "markdown",
   "metadata": {},
   "source": [
    "# Codons ---------> Translation ----> Reading Frames (ORF´s) -------> Protein"
   ]
  },
  {
   "cell_type": "code",
   "execution_count": 60,
   "metadata": {},
   "outputs": [],
   "source": [
    "def get_codoes(dna_seq):\n",
    "    assert DNA_valido(dna_seq), \"Sequência de DNA inválida\"                                 #codões\n",
    "    codon = re.findall('...', dna_seq)\n",
    "    return codon"
   ]
  },
  {
   "cell_type": "code",
   "execution_count": 61,
   "metadata": {},
   "outputs": [],
   "source": [
    "import re\n",
    "def translation(dna_seq):\n",
    "    assert DNA_valido(dna_seq), \"Sequência de DNA inválida\"                                  #tradução\n",
    "    cod = get_codoes(dna_seq)\n",
    "    aa = []\n",
    "    for k in cod:\n",
    "        aa += gencode[k]\n",
    "    prot = ''.join(map(str, aa))  \n",
    "    return prot"
   ]
  },
  {
   "cell_type": "code",
   "execution_count": 62,
   "metadata": {},
   "outputs": [],
   "source": [
    "def reading_frames(dna_seq):\n",
    "     assert DNA_valido(dna_seq), \"Sequência de DNA inválida\"\n",
    "     seq_inv = reverse_complement(dna_seq)\n",
    "     Seq = []\n",
    "     for x in range(0,3):\n",
    "         Seq.append(dna_seq[x:])\n",
    "         Seq.append(seq_inv[x:])\n",
    "     return Seq"
   ]
  },
  {
   "cell_type": "code",
   "execution_count": 63,
   "metadata": {},
   "outputs": [],
   "source": [
    "\"\"\"\n",
    "Encontrar possiveis proteinas\n",
    "\"\"\"\n",
    "def get_protein(dna_seq):\n",
    "    assert DNA_valido(dna_seq), \"Sequência de DNA inválida\"\n",
    "    seq_inv = reverse_complement(dna_seq)\n",
    "    prot_seq=[]\n",
    "    for x in range (0,3):\n",
    "        prot_seq.append(translation(dna_seq[x:]))\n",
    "        prot_seq.append(translation(seq_inv[x:]))\n",
    "    return prot_seq"
   ]
  },
  {
   "cell_type": "code",
   "execution_count": 64,
   "metadata": {},
   "outputs": [],
   "source": [
    "\"\"\"\n",
    "Encontrar possiveis proteinas que podem ser codificadas em todas reading frames\n",
    "\"\"\"\n",
    "def all_orfs (dna_seq):\n",
    "    assert DNA_valido(dna_seq), \"Sequência de DNA inválida\"\n",
    "    rfs = reading_frames (dna_seq)\n",
    "    res = []\n",
    "    for rf in rfs:\n",
    "        prots = get_protein(rf)\n",
    "    for p in prots: res.append(p)\n",
    "    return res"
   ]
  },
  {
   "cell_type": "code",
   "execution_count": 67,
   "metadata": {},
   "outputs": [
    {
     "name": "stdout",
     "output_type": "stream",
     "text": [
      "Valid sequence\n",
      "Transcription:  AAAUACAUACAUACAUAGAG\n",
      "Reverse complement: CTCTATGTATGTATGTATTT\n",
      "Direct translation: KYIHT_\n",
      "Encontrar possiveis proteinas ['KYIHT_', 'LYVCMY', 'NTYIHR', 'SMYVCI', 'IHTYIE', 'LCMYVF']\n",
      "All proteins in ORFs:  ['LCMYVF', 'KYIHT_', 'YVCMY', 'NTYIH', 'MYVCI', 'IHTYI']\n"
     ]
    }
   ],
   "source": [
    "seq = input (\"Insira a sequência de DNA:\")\n",
    "if DNA_valido (seq):\n",
    "    print (\"Sequência válida\")\n",
    "    print (\"Transcription: \", transcription (seq))\n",
    "    print (\"Reverse complement:\", reverse_complement(seq))\n",
    "    print (\"Direct translation:\" , translation(seq))\n",
    "    print(\"Encontrar possiveis proteinas\", get_protein(seq))\n",
    "    print (\"Todas as proteínas nas ORFs: \", all_orfs(seq))\n",
    "else : print (\"Sequência Inválida\")"
   ]
  }
 ],
 "metadata": {
  "kernelspec": {
   "display_name": "Python 3",
   "language": "python",
   "name": "python3"
  },
  "language_info": {
   "codemirror_mode": {
    "name": "ipython",
    "version": 3
   },
   "file_extension": ".py",
   "mimetype": "text/x-python",
   "name": "python",
   "nbconvert_exporter": "python",
   "pygments_lexer": "ipython3",
   "version": "3.10.8"
  },
  "orig_nbformat": 4,
  "vscode": {
   "interpreter": {
    "hash": "3c32c0614abf3f383ac5434e7f67efdcfdcd21ab2cebdd1098cd7517da000a33"
   }
  }
 },
 "nbformat": 4,
 "nbformat_minor": 2
}
