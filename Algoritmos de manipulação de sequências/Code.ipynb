{
 "cells": [
  {
   "attachments": {},
   "cell_type": "markdown",
   "metadata": {},
   "source": [
    "# DNA VÁLIDO : \n",
    "No código da função seguinte, os caracteres válidos são contados e sua soma é comparada ao comprimento da string para verificar se todos os caracteres são válidos."
   ]
  },
  {
   "cell_type": "code",
   "execution_count": 208,
   "metadata": {},
   "outputs": [],
   "source": [
    "import re\n",
    "gencode = {\n",
    "            'ATA':'I', 'ATC':'I', 'ATT':'I', 'ATG':'M',\n",
    "            'ACA':'T', 'ACC':'T', 'ACG':'T', 'ACT':'T',\n",
    "            'AAC':'N', 'AAT':'N', 'AAA':'K', 'AAG':'K',\n",
    "            'AGC':'S', 'AGT':'S', 'AGA':'R', 'AGG':'R',\n",
    "            'CTA':'L', 'CTC':'L', 'CTG':'L', 'CTT':'L',\n",
    "            'CCA':'P', 'CCC':'P', 'CCG':'P', 'CCT':'P',\n",
    "            'CAC':'H', 'CAT':'H', 'CAA':'Q', 'CAG':'Q',\n",
    "            'CGA':'R', 'CGC':'R', 'CGG':'R', 'CGT':'R',\n",
    "            'GTA':'V', 'GTC':'V', 'GTG':'V', 'GTT':'V',\n",
    "            'GCA':'A', 'GCC':'A', 'GCG':'A', 'GCT':'A',\n",
    "            'GAC':'D', 'GAT':'D', 'GAA':'E', 'GAG':'E',\n",
    "            'GGA':'G', 'GGC':'G', 'GGG':'G', 'GGT':'G',\n",
    "            'TCA':'S', 'TCC':'S', 'TCG':'S', 'TCT':'S',\n",
    "            'TTC':'F', 'TTT':'F', 'TTA':'L', 'TTG':'L',\n",
    "            'TAC':'Y', 'TAT':'Y', 'TAA':'_', 'TAG':'_',\n",
    "            'TGC':'C', 'TGT':'C', 'TGA':'_', 'TGG':'W'}\n",
    "class SEQS:\n",
    "    def __init__(self,dna_seq):\n",
    "        self.dna_seq=dna_seq\n",
    "\n",
    "    def __str__(self):\n",
    "        return f'A sequência a analisar é: {self.dna_seq}'\n",
    "    \n",
    "    def __repr__(self):\n",
    "        return f'SEQS(\\\"{self.dna_seq}\\\")'\n",
    "    \n",
    "    def transcription(self):\n",
    "        return self.dna_seq.upper().replace('T','U')\n",
    "    \n",
    "    def reverse_complement(self):\n",
    "\n",
    "        self.dna_inv = self.dna_seq[:: -1]\n",
    "        self.dna_inv = self.dna_inv.replace('A', 't').replace('T', 'a').replace('G', 'c').replace('C', 'g').upper()\n",
    "        return self.dna_inv\n",
    "\n",
    "    def translate_codon(self):\n",
    "        gencode = {\n",
    "            'ATA':'I', 'ATC':'I', 'ATT':'I', 'ATG':'M',\n",
    "            'ACA':'T', 'ACC':'T', 'ACG':'T', 'ACT':'T',\n",
    "            'AAC':'N', 'AAT':'N', 'AAA':'K', 'AAG':'K',\n",
    "            'AGC':'S', 'AGT':'S', 'AGA':'R', 'AGG':'R',\n",
    "            'CTA':'L', 'CTC':'L', 'CTG':'L', 'CTT':'L',\n",
    "            'CCA':'P', 'CCC':'P', 'CCG':'P', 'CCT':'P',\n",
    "            'CAC':'H', 'CAT':'H', 'CAA':'Q', 'CAG':'Q',\n",
    "            'CGA':'R', 'CGC':'R', 'CGG':'R', 'CGT':'R',\n",
    "            'GTA':'V', 'GTC':'V', 'GTG':'V', 'GTT':'V',\n",
    "            'GCA':'A', 'GCC':'A', 'GCG':'A', 'GCT':'A',\n",
    "            'GAC':'D', 'GAT':'D', 'GAA':'E', 'GAG':'E',\n",
    "            'GGA':'G', 'GGC':'G', 'GGG':'G', 'GGT':'G',\n",
    "            'TCA':'S', 'TCC':'S', 'TCG':'S', 'TCT':'S',\n",
    "            'TTC':'F', 'TTT':'F', 'TTA':'L', 'TTG':'L',\n",
    "            'TAC':'Y', 'TAT':'Y', 'TAA':'_', 'TAG':'_',\n",
    "            'TGC':'C', 'TGT':'C', 'TGA':'_', 'TGG':'W'}\n",
    "\n",
    "    def get_codoes(self):                                #codões\n",
    "        codon = re.findall('...', self.dna_seq)\n",
    "        return codon  \n",
    "       \n",
    "    \n",
    "    def translation(self):\n",
    "        cod = SEQS.get_codoes(self)\n",
    "        aa = []\n",
    "        for k in cod:\n",
    "            aa += gencode[k]\n",
    "            self.prot = ''.join(map(str, aa))  \n",
    "        return self.prot\n",
    "    \n",
    "    def reading_frames(self):\n",
    "        seq_inv = SEQS.reverse_complement(self)\n",
    "        S = []\n",
    "        for x in range(0,3):\n",
    "            S.append(self.dna_seq[x:])\n",
    "            S.append(seq_inv[x:])\n",
    "        return S\n",
    "    \n",
    "    def get_protein(self):\n",
    "        seq_inv = SEQS.reverse_complement(self)\n",
    "        self.prot_seq=[]\n",
    "        for x in range (0,3):\n",
    "            self.prot_seq.append(SEQS.translation(self.dna_seq[x:]))\n",
    "            self.prot_seq.append(SEQS.translation(seq_inv[x:]))\n",
    "        return self.prot_seq\n"
   ]
  },
  {
   "cell_type": "code",
   "execution_count": 180,
   "metadata": {},
   "outputs": [],
   "source": [
    "class SEQS2:\n",
    "    def __init__(self,aa_seq,dna_seq):\n",
    "        self.aa_seq=aa_seq\n",
    "        self.dna_seq=dna_seq\n",
    "    def __str__(self):\n",
    "        return f'A sequência a analisar é: {self.aa_seq}'\n",
    "    \n",
    "    def __repr__(self):\n",
    "        return f'SEQS(\\\"{self.aa_seq}\\\")'\n",
    "\n",
    "    def get_protein(self):\n",
    "        seq_inv = SEQS.reverse_complement(self)\n",
    "        self.prot_seq=[]\n",
    "        for x in range (0,3):\n",
    "            self.prot_seq.append(SEQS.translation(self.dna_seq[x:]))\n",
    "            self.prot_seq.append(SEQS.translation(seq_inv[x:]))\n",
    "        return self.prot_seq\n"
   ]
  },
  {
   "cell_type": "code",
   "execution_count": 209,
   "metadata": {},
   "outputs": [
    {
     "data": {
      "text/plain": [
       "'IQI'"
      ]
     },
     "execution_count": 209,
     "metadata": {},
     "output_type": "execute_result"
    }
   ],
   "source": [
    "d=SEQS('ATACAGATA')\n",
    "d.translation()"
   ]
  },
  {
   "cell_type": "code",
   "execution_count": 210,
   "metadata": {},
   "outputs": [
    {
     "ename": "AttributeError",
     "evalue": "'str' object has no attribute 'dna_seq'",
     "output_type": "error",
     "traceback": [
      "\u001b[1;31m---------------------------------------------------------------------------\u001b[0m",
      "\u001b[1;31mAttributeError\u001b[0m                            Traceback (most recent call last)",
      "Cell \u001b[1;32mIn[210], line 2\u001b[0m\n\u001b[0;32m      1\u001b[0m d\u001b[39m=\u001b[39mSEQS(\u001b[39m'\u001b[39m\u001b[39mACCTAATCTTTAATA\u001b[39m\u001b[39m'\u001b[39m)\n\u001b[1;32m----> 2\u001b[0m d\u001b[39m.\u001b[39;49mget_protein()\n",
      "Cell \u001b[1;32mIn[208], line 82\u001b[0m, in \u001b[0;36mSEQS.get_protein\u001b[1;34m(self)\u001b[0m\n\u001b[0;32m     80\u001b[0m \u001b[39mself\u001b[39m\u001b[39m.\u001b[39mprot_seq\u001b[39m=\u001b[39m[]\n\u001b[0;32m     81\u001b[0m \u001b[39mfor\u001b[39;00m x \u001b[39min\u001b[39;00m \u001b[39mrange\u001b[39m (\u001b[39m0\u001b[39m,\u001b[39m3\u001b[39m):\n\u001b[1;32m---> 82\u001b[0m     \u001b[39mself\u001b[39m\u001b[39m.\u001b[39mprot_seq\u001b[39m.\u001b[39mappend(SEQS\u001b[39m.\u001b[39;49mtranslation(\u001b[39mself\u001b[39;49m\u001b[39m.\u001b[39;49mdna_seq[x:]))\n\u001b[0;32m     83\u001b[0m     \u001b[39mself\u001b[39m\u001b[39m.\u001b[39mprot_seq\u001b[39m.\u001b[39mappend(SEQS\u001b[39m.\u001b[39mtranslation(seq_inv[x:]))\n\u001b[0;32m     84\u001b[0m \u001b[39mreturn\u001b[39;00m \u001b[39mself\u001b[39m\u001b[39m.\u001b[39mprot_seq\n",
      "Cell \u001b[1;32mIn[208], line 63\u001b[0m, in \u001b[0;36mSEQS.translation\u001b[1;34m(self)\u001b[0m\n\u001b[0;32m     62\u001b[0m \u001b[39mdef\u001b[39;00m \u001b[39mtranslation\u001b[39m(\u001b[39mself\u001b[39m):\n\u001b[1;32m---> 63\u001b[0m     cod \u001b[39m=\u001b[39m SEQS\u001b[39m.\u001b[39;49mget_codoes(\u001b[39mself\u001b[39;49m)\n\u001b[0;32m     64\u001b[0m     aa \u001b[39m=\u001b[39m []\n\u001b[0;32m     65\u001b[0m     \u001b[39mfor\u001b[39;00m k \u001b[39min\u001b[39;00m cod:\n",
      "Cell \u001b[1;32mIn[208], line 58\u001b[0m, in \u001b[0;36mSEQS.get_codoes\u001b[1;34m(self)\u001b[0m\n\u001b[0;32m     57\u001b[0m \u001b[39mdef\u001b[39;00m \u001b[39mget_codoes\u001b[39m(\u001b[39mself\u001b[39m):                                \u001b[39m#codões\u001b[39;00m\n\u001b[1;32m---> 58\u001b[0m     codon \u001b[39m=\u001b[39m re\u001b[39m.\u001b[39mfindall(\u001b[39m'\u001b[39m\u001b[39m...\u001b[39m\u001b[39m'\u001b[39m, \u001b[39mself\u001b[39;49m\u001b[39m.\u001b[39;49mdna_seq)\n\u001b[0;32m     59\u001b[0m     \u001b[39mreturn\u001b[39;00m codon\n",
      "\u001b[1;31mAttributeError\u001b[0m: 'str' object has no attribute 'dna_seq'"
     ]
    }
   ],
   "source": [
    "d=SEQS('ACCTAATCTTTAATA')\n",
    "d.get_protein()\n"
   ]
  },
  {
   "cell_type": "code",
   "execution_count": 63,
   "metadata": {},
   "outputs": [],
   "source": [
    "\"\"\"\n",
    "Encontrar possiveis proteinas\n",
    "\"\"\"\n",
    "def get_protein(dna_seq):\n",
    "    assert DNA_valido(dna_seq), \"Sequência de DNA inválida\"\n",
    "    seq_inv = reverse_complement(dna_seq)\n",
    "    prot_seq=[]\n",
    "    for x in range (0,3):\n",
    "        prot_seq.append(translation(dna_seq[x:]))\n",
    "        prot_seq.append(translation(seq_inv[x:]))\n",
    "    return prot_seq\n",
    "\n",
    "\n",
    "def get_protein(self):\n",
    "        aa_seq = self.aa_seq.upper()\n",
    "        self.current_prot = []\n",
    "        self.proteins = []\n",
    "        for aa in self.aa_seq:\n",
    "            if aa == \"_\":\n",
    "                if self.current_prot:\n",
    "                    for p in self.current_prot:\n",
    "                        self.proteins.append(p)\n",
    "                    self.current_prot = []\n",
    "            else :\n",
    "                if aa == \"M\":\n",
    "                    self.current_prot.append(\"\")\n",
    "                for i in range( len (self.current_prot)):\n",
    "                    self.current_prot[i] += aa\n",
    "        return self.proteins"
   ]
  },
  {
   "cell_type": "code",
   "execution_count": 64,
   "metadata": {},
   "outputs": [],
   "source": [
    "\"\"\"\n",
    "Encontrar possiveis proteinas que podem ser codificadas em todas reading frames\n",
    "\"\"\"\n",
    "def all_orfs (dna_seq):\n",
    "    assert DNA_valido(dna_seq), \"Sequência de DNA inválida\"\n",
    "    rfs = reading_frames (dna_seq)\n",
    "    res = []\n",
    "    for rf in rfs:\n",
    "        prots = get_protein(rf)\n",
    "    for p in prots: res.append(p)\n",
    "    return res"
   ]
  },
  {
   "cell_type": "code",
   "execution_count": 211,
   "metadata": {},
   "outputs": [
    {
     "ename": "SyntaxError",
     "evalue": "invalid syntax (3728551884.py, line 1)",
     "output_type": "error",
     "traceback": [
      "\u001b[1;36m  Cell \u001b[1;32mIn[211], line 1\u001b[1;36m\u001b[0m\n\u001b[1;33m    git clone https://github.com/doxygen/doxygen.git\u001b[0m\n\u001b[1;37m        ^\u001b[0m\n\u001b[1;31mSyntaxError\u001b[0m\u001b[1;31m:\u001b[0m invalid syntax\n"
     ]
    }
   ],
   "source": []
  }
 ],
 "metadata": {
  "kernelspec": {
   "display_name": "Python 3",
   "language": "python",
   "name": "python3"
  },
  "language_info": {
   "codemirror_mode": {
    "name": "ipython",
    "version": 3
   },
   "file_extension": ".py",
   "mimetype": "text/x-python",
   "name": "python",
   "nbconvert_exporter": "python",
   "pygments_lexer": "ipython3",
   "version": "3.10.8"
  },
  "orig_nbformat": 4,
  "vscode": {
   "interpreter": {
    "hash": "3c32c0614abf3f383ac5434e7f67efdcfdcd21ab2cebdd1098cd7517da000a33"
   }
  }
 },
 "nbformat": 4,
 "nbformat_minor": 2
}
