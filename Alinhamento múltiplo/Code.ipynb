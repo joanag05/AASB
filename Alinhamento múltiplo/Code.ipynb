{
 "cells": [
  {
   "cell_type": "code",
   "execution_count": null,
   "metadata": {},
   "outputs": [],
   "source": [
    "# Alinhamento múltipo"
   ]
  },
  {
   "attachments": {},
   "cell_type": "markdown",
   "metadata": {},
   "source": [
    "# Alinhamento Múltiplo"
   ]
  },
  {
   "cell_type": "code",
   "execution_count": 1,
   "metadata": {},
   "outputs": [],
   "source": [
    "# Fizemos na aula\n",
    "\n",
    "seqs = ['ATTG','ATCG','ATTC','ACTC']\n",
    "\n",
    "seqs2 = \"\"\"HEM13 CCCATTGTTCTC\n",
    "HEM13 TTTCTGGTTCTC\n",
    "HEM13 TCAATTGTTTAG\n",
    "ANB1 CTCATTGTTGTC\n",
    "ANB1 TCCATTGTTCTC\n",
    "ANB1 CCTATTGTTCTC\n",
    "ANB1 TCCATTGTTCGT\n",
    "ROX1 CCAATTGTTTTG\"\"\"\n",
    "\n",
    "seqs2 = [x.split()[1] for x in seqs2.splitlines()]"
   ]
  },
  {
   "cell_type": "code",
   "execution_count": 5,
   "metadata": {},
   "outputs": [
    {
     "name": "stdout",
     "output_type": "stream",
     "text": [
      "ATGATA\n"
     ]
    }
   ],
   "source": [
    "class MyAlign:    # Class to represent alignments\n",
    "\n",
    "    def __init__(self, lseqs, al_type = \"protein\"):\n",
    "        self.listseqs = lseqs\n",
    "        self.al_type = al_type\n",
    "    \n",
    "    def __len__(self): \n",
    "        return len(self.listseqs[0])\n",
    "    \n",
    "    def __getitem__(self, n):\n",
    "        if type(n) is tuple and len(n) ==2: \n",
    "            i, j = n\n",
    "            return self.listseqs[i][j]\n",
    "        elif type(n) is int: return self.listseqs[n]\n",
    "        return None\n",
    "    \n",
    "    def __str__(self):\n",
    "        res = \"\"\n",
    "        for seq in self.listseqs:\n",
    "            res += \"\\n\" + seq \n",
    "        return res\n",
    "    \n",
    "    def num_seqs(self):\n",
    "        return len(self.listseqs)\n",
    "   \n",
    "       \n",
    "    def column (self, indice):\n",
    "        res = []\n",
    "        for k in range(len(self.listseqs)):\n",
    "            res.append(self.listseqs[k][indice])\n",
    "        return res\n",
    "    \n",
    "    def consensus (self):\n",
    "        cons = \"\"\n",
    "        for i in range(len(self)):\n",
    "            cont = {}\n",
    "            for k in range(len(self.listseqs)):\n",
    "                c = self.listseqs[k][i]\n",
    "                if c in cont:\n",
    "                    cont[c] = cont[c] + 1\n",
    "                else: \n",
    "                    cont[c] = 1\n",
    "            maximum = 0\n",
    "            cmax = None\n",
    "            for ke in cont.keys():\n",
    "                if ke != \"-\" and cont[ke] > maximum: \n",
    "                    maximum = cont[ke]\n",
    "                    cmax = ke\n",
    "            cons = cons + cmax\n",
    "        return cons\n",
    "\n",
    "\n",
    "if __name__ == \"__main__\":\n",
    "    alig = MyAlign([\"ATGA-A\",\"AA-AT-\"], \"dna\")\n",
    "    print (alig.consensus())"
   ]
  },
  {
   "cell_type": "code",
   "execution_count": 2,
   "metadata": {},
   "outputs": [
    {
     "name": "stdout",
     "output_type": "stream",
     "text": [
      "Note: you may need to restart the kernel to use updated packages.\n"
     ]
    },
    {
     "name": "stderr",
     "output_type": "stream",
     "text": [
      "ERROR: Could not find a version that satisfies the requirement MyAlign (from versions: none)\n",
      "ERROR: No matching distribution found for MyAlign\n"
     ]
    }
   ],
   "source": [
    "pip install MyAlign"
   ]
  },
  {
   "cell_type": "code",
   "execution_count": 1,
   "metadata": {},
   "outputs": [
    {
     "ename": "ImportError",
     "evalue": "cannot import name 'PairwiseAlignment' from 'PairwiseAlignment' (c:\\Users\\joana\\AppData\\Local\\Programs\\Python\\Python310\\lib\\site-packages\\PairwiseAlignment\\__init__.py)",
     "output_type": "error",
     "traceback": [
      "\u001b[1;31m---------------------------------------------------------------------------\u001b[0m",
      "\u001b[1;31mImportError\u001b[0m                               Traceback (most recent call last)",
      "Cell \u001b[1;32mIn[1], line 3\u001b[0m\n\u001b[0;32m      1\u001b[0m \u001b[39m# Pairwise Alignment: Class AlignSeq\u001b[39;00m\n\u001b[1;32m----> 3\u001b[0m \u001b[39mfrom\u001b[39;00m \u001b[39mPairwiseAlignment\u001b[39;00m \u001b[39mimport\u001b[39;00m PairwiseAlignment\n\u001b[0;32m      4\u001b[0m \u001b[39mfrom\u001b[39;00m \u001b[39mMyAlign\u001b[39;00m \u001b[39mimport\u001b[39;00m MyAlign\n\u001b[0;32m      5\u001b[0m \u001b[39mfrom\u001b[39;00m \u001b[39mMySeq\u001b[39;00m \u001b[39mimport\u001b[39;00m MySeq\n",
      "\u001b[1;31mImportError\u001b[0m: cannot import name 'PairwiseAlignment' from 'PairwiseAlignment' (c:\\Users\\joana\\AppData\\Local\\Programs\\Python\\Python310\\lib\\site-packages\\PairwiseAlignment\\__init__.py)"
     ]
    }
   ],
   "source": [
    "# Pairwise Alignment: Class AlignSeq\n",
    "\n",
    "from PairwiseAlignment import PairwiseAlignment\n",
    "from MyAlign import MyAlign\n",
    "from MySeq import MySeq\n",
    "from SubstMatrix import SubstMatrix\n",
    "\n",
    "\n",
    "class MultipleAlignment():\n",
    "    def __init__( self , seqs, alignseq):\n",
    "        self .seqs = seqs\n",
    "        self .alignpars = alignseq\n",
    "def add_seq_alignment ( self , alignment, seq):\n",
    "    res = []\n",
    "    for i in range( len (alignment.listseqs)+1):\n",
    "        res.append(\"\")\n",
    "        cons = MySeq(alignment.consensus(),alignment.al_type)\n",
    "        self .alignpars.needleman_Wunsch(cons, seq)\n",
    "        align2 = self .alignpars.recover_align()\n",
    "        orig = 0\n",
    "    for i in range( len (align2)):\n",
    "        if align2[0,i]== '-':\n",
    "            for k in range( len (alignment.listseqs)):\n",
    "                res[k] += \"-\"\n",
    "        else :\n",
    "            for k in range( len (alignment.listseqs)):\n",
    "                res[k] += alignment[k,orig]\n",
    "                orig+=1\n",
    "    res[ len (alignment.listseqs)] = align2.listseqs[1]\n",
    "    return MyAlign(res, alignment.al_type)\n",
    "\n",
    "def align_consensus( self ):\n",
    "    self .alignpars.needleman_Wunsch( self .seqs[0], self .seqs[1])\n",
    "    res = self .alignpars.recover_align()\n",
    "    for i in range (2, len ( self .seqs)):\n",
    "        res = self .add_seq_alignment(res, self .seqs[i])\n",
    "    return res\n"
   ]
  }
 ],
 "metadata": {
  "kernelspec": {
   "display_name": "Python 3",
   "language": "python",
   "name": "python3"
  },
  "language_info": {
   "codemirror_mode": {
    "name": "ipython",
    "version": 3
   },
   "file_extension": ".py",
   "mimetype": "text/x-python",
   "name": "python",
   "nbconvert_exporter": "python",
   "pygments_lexer": "ipython3",
   "version": "3.10.8"
  },
  "orig_nbformat": 4,
  "vscode": {
   "interpreter": {
    "hash": "3c32c0614abf3f383ac5434e7f67efdcfdcd21ab2cebdd1098cd7517da000a33"
   }
  }
 },
 "nbformat": 4,
 "nbformat_minor": 2
}
