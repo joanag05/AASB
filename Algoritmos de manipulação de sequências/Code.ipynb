{
 "cells": [
  {
   "attachments": {},
   "cell_type": "markdown",
   "metadata": {},
   "source": [
    "# Transcrição"
   ]
  },
  {
   "cell_type": "code",
   "execution_count": 4,
   "metadata": {},
   "outputs": [],
   "source": [
    "def transcription(seq):\n",
    "    return seq.upper().replace('T','U')"
   ]
  },
  {
   "cell_type": "code",
   "execution_count": 61,
   "metadata": {},
   "outputs": [],
   "source": [
    "import re\n",
    "gencode = {\n",
    "    'ATA':'I', 'ATC':'I', 'ATT':'I', 'ATG':'M',\n",
    "    'ACA':'T', 'ACC':'T', 'ACG':'T', 'ACT':'T',\n",
    "    'AAC':'N', 'AAT':'N', 'AAA':'K', 'AAG':'K',\n",
    "    'AGC':'S', 'AGT':'S', 'AGA':'R', 'AGG':'R',\n",
    "    'CTA':'L', 'CTC':'L', 'CTG':'L', 'CTT':'L',\n",
    "    'CCA':'P', 'CCC':'P', 'CCG':'P', 'CCT':'P',\n",
    "    'CAC':'H', 'CAT':'H', 'CAA':'Q', 'CAG':'Q',\n",
    "    'CGA':'R', 'CGC':'R', 'CGG':'R', 'CGT':'R',\n",
    "    'GTA':'V', 'GTC':'V', 'GTG':'V', 'GTT':'V',\n",
    "    'GCA':'A', 'GCC':'A', 'GCG':'A', 'GCT':'A',\n",
    "    'GAC':'D', 'GAT':'D', 'GAA':'E', 'GAG':'E',\n",
    "    'GGA':'G', 'GGC':'G', 'GGG':'G', 'GGT':'G',\n",
    "    'TCA':'S', 'TCC':'S', 'TCG':'S', 'TCT':'S',\n",
    "    'TTC':'F', 'TTT':'F', 'TTA':'L', 'TTG':'L',\n",
    "    'TAC':'Y', 'TAT':'Y', 'TAA':'_', 'TAG':'_',\n",
    "    'TGC':'C', 'TGT':'C', 'TGA':'_', 'TGG':'W'}\n"
   ]
  },
  {
   "attachments": {},
   "cell_type": "markdown",
   "metadata": {},
   "source": [
    "# Codons ---------> Translation ----> Reading Frames (ORF´s) -------> Protein"
   ]
  },
  {
   "cell_type": "code",
   "execution_count": 80,
   "metadata": {},
   "outputs": [],
   "source": [
    "def get_codoes(seq):                                 #codões\n",
    "    codon = re.findall('...', seq)\n",
    "    return codon\n",
    "    \n",
    "def translation(seq):                                  #tradução\n",
    "    cod = get_codoes(seq)\n",
    "    aa = []\n",
    "    for k in cod:\n",
    "        aa += gencode[k]\n",
    "    prot = ''.join(map(str, aa))  \n",
    "    return prot\n",
    "\n",
    "\n",
    "def reading_frames(seq):\n",
    "    seq_inv = seq[::-1]\n",
    "    seq_inv = seq_inv.replace('A', 't').replace('T', 'a').replace('C', 'g').replace('G', 'c').upper()\n",
    "    Seq = []\n",
    "    for x in range(0,3):\n",
    "         Seq.append(seq[x:])\n",
    "         Seq.append(seq_inv[x:])\n",
    "    return Seq\n",
    "\n",
    "def get_protein(seq):\n",
    "    seq_inv = seq[::-1]\n",
    "    seq_inv = seq_inv.replace('A', 't').replace('T', 'a').replace('C', 'g').replace('G', 'c').upper()\n",
    "    prot_seq=[]\n",
    "    for x in range (0,3):\n",
    "        prot_seq.append(translation(seq[x:]))\n",
    "        prot_seq.append(translation(seq_inv[x:]))\n",
    "    return prot_seq"
   ]
  },
  {
   "cell_type": "code",
   "execution_count": 85,
   "metadata": {},
   "outputs": [
    {
     "data": {
      "text/plain": [
       "['KYIHT_', 'LYVCMY', 'NTYIHR', 'SMYVCI', 'IHTYIE', 'LCMYVF']"
      ]
     },
     "execution_count": 85,
     "metadata": {},
     "output_type": "execute_result"
    }
   ],
   "source": [
    "get_protein('AAATACATACATACATAGAG')"
   ]
  }
 ],
 "metadata": {
  "kernelspec": {
   "display_name": "Python 3",
   "language": "python",
   "name": "python3"
  },
  "language_info": {
   "codemirror_mode": {
    "name": "ipython",
    "version": 3
   },
   "file_extension": ".py",
   "mimetype": "text/x-python",
   "name": "python",
   "nbconvert_exporter": "python",
   "pygments_lexer": "ipython3",
   "version": "3.10.8"
  },
  "orig_nbformat": 4,
  "vscode": {
   "interpreter": {
    "hash": "3c32c0614abf3f383ac5434e7f67efdcfdcd21ab2cebdd1098cd7517da000a33"
   }
  }
 },
 "nbformat": 4,
 "nbformat_minor": 2
}
