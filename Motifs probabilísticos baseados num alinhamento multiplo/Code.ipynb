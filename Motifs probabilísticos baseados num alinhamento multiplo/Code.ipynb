{
 "cells": [
  {
   "cell_type": "code",
   "execution_count": null,
   "metadata": {},
   "outputs": [],
   "source": [
    "#"
   ]
  },
  {
   "attachments": {},
   "cell_type": "markdown",
   "metadata": {},
   "source": [
    "# Motifs Probabilisticos"
   ]
  },
  {
   "cell_type": "code",
   "execution_count": 6,
   "metadata": {},
   "outputs": [
    {
     "name": "stdout",
     "output_type": "stream",
     "text": [
      "-1\n"
     ]
    }
   ],
   "source": [
    "def create_matrix(L, C):\n",
    "    M = []\n",
    "    for l in range(0, L):\n",
    "        M.append([0]*C)\n",
    "    return M\n",
    "\n",
    "def criaPWM(seqs, alfabeto):\n",
    "    contagens = create_matrix(len(alfabeto), len(seqs[0]))\n",
    "    for b in seqs:\n",
    "        for i in range(len(b)):\n",
    "            linha = alfabeto.index(b[i])\n",
    "            contagens[linha][i] +=1\n",
    "    pwm = create_matrix(len(contagens), len(contagens[0]))\n",
    "    for l in range(len(contagens)):\n",
    "        for c in range(len(contagens[l])):\n",
    "            pwm[l][c] = contagens[l][c]/len(seqs)\n",
    "    return pwm\n",
    "\n",
    "alfabeto = \"ATCGCGT\"\n",
    "s1 = \"ACGTC\"\n",
    "s2 = \"CGCAT\"\n",
    "seqs = [s1, s2]\n",
    "pwm1 = criaPWM(seqs, alfabeto)\n",
    "\n",
    "def probabSeq(pwm, alfabeto, seq):\n",
    "    P = 0.5 \n",
    "    for i in range(len(pwm[0])):\n",
    "        linha = alfabeto.index(seq[i])\n",
    "        P *= pwm[linha][i]\n",
    "    return P\n",
    "\n",
    "def posMaisPorvavel(pwm, alfabeto, seq):\n",
    "    maximo = -1.0\n",
    "    indmax = -1\n",
    "    for i in range(len(seq) - len(pwm[0])):\n",
    "        p = probabSeq(pwm, alfabeto, seq[k:k + len(pwm[0])])\n",
    "        if (p > maximo):\n",
    "            maximo = p\n",
    "            indmax = k\n",
    "    return indmax\n",
    "\n",
    "print(posMaisPorvavel(pwm1, alfabeto, s1))"
   ]
  },
  {
   "cell_type": "code",
   "execution_count": 7,
   "metadata": {},
   "outputs": [
    {
     "data": {
      "text/plain": [
       "'ACCGT'"
      ]
     },
     "execution_count": 7,
     "metadata": {},
     "output_type": "execute_result"
    }
   ],
   "source": [
    "from IPython.core.displayhook import CapturingDisplayHook\n",
    "\n",
    "def contagens(seqs, chars, pseudo = 0):\n",
    "  return [{x : s.count(x) + pseudo for x in chars} for s in zip(*seqs)]\n",
    "\n",
    "def pwm(seqs, pseudo = 0):\n",
    "  tam = len(seqs)\n",
    "  chars = set(''.join(seqs)) \n",
    "  cont = contagens(seqs, chars, pseudo)\n",
    "  return [{k : v / sum(d.values()) for k, v in d.items()} for d in cont]\n",
    "\n",
    "def pssm(seqs, pseudo = 0.5):\n",
    "  P = pwm(seqs, pseudo)\n",
    "  nchars = len(set(''.join(seqs))) \n",
    "  from math import log2\n",
    "  return [{k : log2(v/(1/nchars)) for k, v in d.items()} for d in P]\n",
    "\n",
    "def prob_seq(seq, pwm):\n",
    "  P = 1\n",
    "  for p in [d[x] for x, d in zip(seq, pwm)]:\n",
    "    P *= p\n",
    "  return P\n",
    "\n",
    "snd = lambda x: x[1]\n",
    "\n",
    "def chunks_size_n(seq, size):\n",
    "  import re\n",
    "  return re.findall(f'(?=({\".\" * size}))', seq)\n",
    "\n",
    "def seq_mais_provavel(seq, pwm):\n",
    "  tam = len(pwm)\n",
    "  cand = chunks_size_n(seq, tam)\n",
    "  por_prob = lambda C : prob_seq(C, pwm)\n",
    "\n",
    "  return max(cand, key = por_prob)\n",
    "\n",
    "seq_mais_provavel(\"ACCGTGAAAAAA\", pwm(seqs, 0.5))"
   ]
  }
 ],
 "metadata": {
  "kernelspec": {
   "display_name": "Python 3",
   "language": "python",
   "name": "python3"
  },
  "language_info": {
   "codemirror_mode": {
    "name": "ipython",
    "version": 3
   },
   "file_extension": ".py",
   "mimetype": "text/x-python",
   "name": "python",
   "nbconvert_exporter": "python",
   "pygments_lexer": "ipython3",
   "version": "3.10.8"
  },
  "orig_nbformat": 4,
  "vscode": {
   "interpreter": {
    "hash": "3c32c0614abf3f383ac5434e7f67efdcfdcd21ab2cebdd1098cd7517da000a33"
   }
  }
 },
 "nbformat": 4,
 "nbformat_minor": 2
}
